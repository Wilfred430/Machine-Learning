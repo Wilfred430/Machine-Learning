{
 "cells": [
  {
   "cell_type": "markdown",
   "id": "753ce392",
   "metadata": {},
   "source": [
    "將預測結果視覺化，方便觀察結果，與作業繳交無關。"
   ]
  },
  {
   "cell_type": "markdown",
   "id": "ff443cbe",
   "metadata": {},
   "source": [
    "## Visualize (t-SNE)"
   ]
  },
  {
   "cell_type": "code",
   "execution_count": null,
   "id": "b2f2fdce",
   "metadata": {},
   "outputs": [],
   "source": [
    "animals = [\n",
    "    \"fox\", \"duck\", \"bear\", \"elephant\", \"cat\",\n",
    "    \"zebra\", \"sheep\", \"giraffe\", \"dog\", \"lion\"\n",
    "]"
   ]
  },
  {
   "cell_type": "code",
   "execution_count": null,
   "id": "3529c622",
   "metadata": {},
   "outputs": [],
   "source": [
    "import numpy as np\n",
    "import matplotlib.pyplot as plt\n",
    "from sklearn.manifold import TSNE\n",
    "\n",
    "cluster_label = np.load(\"predicted_label.npy\")\n",
    "true_label = np.load(\"label_test.npy\")\n",
    "features = np.load(\"features.npy\")"
   ]
  },
  {
   "cell_type": "code",
   "execution_count": null,
   "id": "34a6f534",
   "metadata": {},
   "outputs": [],
   "source": [
    "X_embedded = TSNE(n_components=2, learning_rate='auto',\n",
    "                  init='random', perplexity=3).fit_transform(features[:500])"
   ]
  },
  {
   "cell_type": "code",
   "execution_count": null,
   "id": "c5d7bcde",
   "metadata": {},
   "outputs": [],
   "source": [
    "fig, axes = plt.subplots(2, 1, figsize=(6, 6))\n",
    "\n",
    "axes[0].scatter(X_embedded[:, 0], X_embedded[:, 1], c=cluster_label[:500], cmap=\"tab10\", s=20)\n",
    "axes[0].set_title(\"Image Clustering\")\n",
    "axes[0].set_xlabel(\"t-SNE 1\")\n",
    "axes[0].set_ylabel(\"t-SNE 2\")\n",
    "\n",
    "sc = axes[1].scatter(X_embedded[:, 0], X_embedded[:, 1], c=true_label, cmap=\"tab10\", s=20)\n",
    "axes[1].set_title(\"True Labels\")\n",
    "axes[1].set_xlabel(\"t-SNE 1\")\n",
    "axes[1].set_ylabel(\"t-SNE 2\")\n",
    "\n",
    "handles = [plt.Line2D([], [], marker=\"o\", color=\"w\", markerfacecolor=sc.cmap(sc.norm(i)), \n",
    "                      markersize=10) for i in range(len(animals))]\n",
    "axes[1].legend(handles, animals, title=\"Animals\",\n",
    "               bbox_to_anchor=(1.05, 1), loc=\"upper left\")\n",
    "\n",
    "plt.tight_layout()\n",
    "plt.show()"
   ]
  },
  {
   "cell_type": "markdown",
   "id": "d2b33908",
   "metadata": {},
   "source": [
    "## Plot cluster images"
   ]
  },
  {
   "cell_type": "code",
   "execution_count": null,
   "id": "42408a0d",
   "metadata": {},
   "outputs": [],
   "source": [
    "import os\n",
    "import matplotlib.pyplot as plt\n",
    "from PIL import Image\n",
    "\n",
    "def plot_clusters(image_folder, labels, max_per_cluster=10, img_size=(64, 64)):\n",
    "\n",
    "    unique_labels = sorted(set(labels))\n",
    "    n_clusters = len(unique_labels)\n",
    "\n",
    "    fig, axes = plt.subplots(\n",
    "        n_clusters, max_per_cluster,\n",
    "        figsize=(max_per_cluster * 1.2, n_clusters * 1.2)\n",
    "    )\n",
    "\n",
    "    if n_clusters == 1:\n",
    "        axes = [axes]\n",
    "\n",
    "    for row, cluster_id in enumerate(unique_labels):\n",
    "        cluster_imgs = [f\"{i:04d}.jpg\" for i in range(len(labels)) if labels[i] == cluster_id]\n",
    "        cluster_imgs = cluster_imgs[:max_per_cluster]\n",
    "\n",
    "        for col in range(max_per_cluster):\n",
    "            ax = axes[row][col] if n_clusters > 1 else axes[col]\n",
    "            ax.axis(\"off\")\n",
    "            if col < len(cluster_imgs):\n",
    "                img = cluster_imgs[col]\n",
    "                if isinstance(img, str):\n",
    "                    im = Image.open(os.path.join(image_folder, img)).resize(img_size)\n",
    "                else:\n",
    "                    im = Image.fromarray(img).resize(img_size)\n",
    "                ax.imshow(im)\n",
    "\n",
    "        axes[row][0].set_title(f\"Cluster {cluster_id}\", fontsize=10, loc=\"left\")\n",
    "\n",
    "    plt.tight_layout()\n",
    "    plt.show()\n",
    "\n",
    "\n",
    "image_folder = \"./data\"\n",
    "plot_clusters(image_folder, cluster_label)\n"
   ]
  }
 ],
 "metadata": {
  "kernelspec": {
   "display_name": "CAGG",
   "language": "python",
   "name": "python3"
  },
  "language_info": {
   "codemirror_mode": {
    "name": "ipython",
    "version": 3
   },
   "file_extension": ".py",
   "mimetype": "text/x-python",
   "name": "python",
   "nbconvert_exporter": "python",
   "pygments_lexer": "ipython3",
   "version": "3.11.10"
  }
 },
 "nbformat": 4,
 "nbformat_minor": 5
}
