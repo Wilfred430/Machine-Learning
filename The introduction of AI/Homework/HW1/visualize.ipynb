{
 "cells": [
  {
   "cell_type": "markdown",
   "id": "753ce392",
   "metadata": {},
   "source": [
    "將預測結果視覺化，方便觀察結果，與作業繳交無關。"
   ]
  },
  {
   "cell_type": "markdown",
   "id": "ff443cbe",
   "metadata": {},
   "source": [
    "## Visualize (t-SNE)"
   ]
  },
  {
   "cell_type": "code",
   "execution_count": 9,
   "id": "b2f2fdce",
   "metadata": {},
   "outputs": [],
   "source": [
    "animals = [\n",
    "    \"fox\", \"duck\", \"bear\", \"elephant\", \"cat\",\n",
    "    \"zebra\", \"sheep\", \"giraffe\", \"dog\", \"lion\"\n",
    "]"
   ]
  },
  {
   "cell_type": "code",
   "execution_count": 10,
   "id": "3529c622",
   "metadata": {},
   "outputs": [
    {
     "ename": "ValueError",
     "evalue": "Object arrays cannot be loaded when allow_pickle=False",
     "output_type": "error",
     "traceback": [
      "\u001b[31m---------------------------------------------------------------------------\u001b[39m",
      "\u001b[31mValueError\u001b[39m                                Traceback (most recent call last)",
      "\u001b[36mCell\u001b[39m\u001b[36m \u001b[39m\u001b[32mIn[10]\u001b[39m\u001b[32m, line 5\u001b[39m\n\u001b[32m      2\u001b[39m \u001b[38;5;28;01mimport\u001b[39;00m\u001b[38;5;250m \u001b[39m\u001b[34;01mmatplotlib\u001b[39;00m\u001b[34;01m.\u001b[39;00m\u001b[34;01mpyplot\u001b[39;00m\u001b[38;5;250m \u001b[39m\u001b[38;5;28;01mas\u001b[39;00m\u001b[38;5;250m \u001b[39m\u001b[34;01mplt\u001b[39;00m\n\u001b[32m      3\u001b[39m \u001b[38;5;28;01mfrom\u001b[39;00m\u001b[38;5;250m \u001b[39m\u001b[34;01msklearn\u001b[39;00m\u001b[34;01m.\u001b[39;00m\u001b[34;01mmanifold\u001b[39;00m\u001b[38;5;250m \u001b[39m\u001b[38;5;28;01mimport\u001b[39;00m TSNE\n\u001b[32m----> \u001b[39m\u001b[32m5\u001b[39m cluster_label = \u001b[43mnp\u001b[49m\u001b[43m.\u001b[49m\u001b[43mload\u001b[49m\u001b[43m(\u001b[49m\u001b[33;43m\"\u001b[39;49m\u001b[33;43mpredicted_label.npy\u001b[39;49m\u001b[33;43m\"\u001b[39;49m\u001b[43m)\u001b[49m\n\u001b[32m      6\u001b[39m true_label = np.load(\u001b[33m\"\u001b[39m\u001b[33mlabel_test.npy\u001b[39m\u001b[33m\"\u001b[39m)\n\u001b[32m      7\u001b[39m features = np.load(\u001b[33m\"\u001b[39m\u001b[33mfeatures.npy\u001b[39m\u001b[33m\"\u001b[39m)\n",
      "\u001b[36mFile \u001b[39m\u001b[32md:\\Machine Learning\\.venv\\Lib\\site-packages\\numpy\\lib\\_npyio_impl.py:483\u001b[39m, in \u001b[36mload\u001b[39m\u001b[34m(file, mmap_mode, allow_pickle, fix_imports, encoding, max_header_size)\u001b[39m\n\u001b[32m    480\u001b[39m         \u001b[38;5;28;01mreturn\u001b[39;00m \u001b[38;5;28mformat\u001b[39m.open_memmap(file, mode=mmap_mode,\n\u001b[32m    481\u001b[39m                                   max_header_size=max_header_size)\n\u001b[32m    482\u001b[39m     \u001b[38;5;28;01melse\u001b[39;00m:\n\u001b[32m--> \u001b[39m\u001b[32m483\u001b[39m         \u001b[38;5;28;01mreturn\u001b[39;00m \u001b[38;5;28;43mformat\u001b[39;49m\u001b[43m.\u001b[49m\u001b[43mread_array\u001b[49m\u001b[43m(\u001b[49m\u001b[43mfid\u001b[49m\u001b[43m,\u001b[49m\u001b[43m \u001b[49m\u001b[43mallow_pickle\u001b[49m\u001b[43m=\u001b[49m\u001b[43mallow_pickle\u001b[49m\u001b[43m,\u001b[49m\n\u001b[32m    484\u001b[39m \u001b[43m                                 \u001b[49m\u001b[43mpickle_kwargs\u001b[49m\u001b[43m=\u001b[49m\u001b[43mpickle_kwargs\u001b[49m\u001b[43m,\u001b[49m\n\u001b[32m    485\u001b[39m \u001b[43m                                 \u001b[49m\u001b[43mmax_header_size\u001b[49m\u001b[43m=\u001b[49m\u001b[43mmax_header_size\u001b[49m\u001b[43m)\u001b[49m\n\u001b[32m    486\u001b[39m \u001b[38;5;28;01melse\u001b[39;00m:\n\u001b[32m    487\u001b[39m     \u001b[38;5;66;03m# Try a pickle\u001b[39;00m\n\u001b[32m    488\u001b[39m     \u001b[38;5;28;01mif\u001b[39;00m \u001b[38;5;129;01mnot\u001b[39;00m allow_pickle:\n",
      "\u001b[36mFile \u001b[39m\u001b[32md:\\Machine Learning\\.venv\\Lib\\site-packages\\numpy\\lib\\_format_impl.py:833\u001b[39m, in \u001b[36mread_array\u001b[39m\u001b[34m(fp, allow_pickle, pickle_kwargs, max_header_size)\u001b[39m\n\u001b[32m    830\u001b[39m \u001b[38;5;28;01mif\u001b[39;00m dtype.hasobject:\n\u001b[32m    831\u001b[39m     \u001b[38;5;66;03m# The array contained Python objects. We need to unpickle the data.\u001b[39;00m\n\u001b[32m    832\u001b[39m     \u001b[38;5;28;01mif\u001b[39;00m \u001b[38;5;129;01mnot\u001b[39;00m allow_pickle:\n\u001b[32m--> \u001b[39m\u001b[32m833\u001b[39m         \u001b[38;5;28;01mraise\u001b[39;00m \u001b[38;5;167;01mValueError\u001b[39;00m(\u001b[33m\"\u001b[39m\u001b[33mObject arrays cannot be loaded when \u001b[39m\u001b[33m\"\u001b[39m\n\u001b[32m    834\u001b[39m                          \u001b[33m\"\u001b[39m\u001b[33mallow_pickle=False\u001b[39m\u001b[33m\"\u001b[39m)\n\u001b[32m    835\u001b[39m     \u001b[38;5;28;01mif\u001b[39;00m pickle_kwargs \u001b[38;5;129;01mis\u001b[39;00m \u001b[38;5;28;01mNone\u001b[39;00m:\n\u001b[32m    836\u001b[39m         pickle_kwargs = {}\n",
      "\u001b[31mValueError\u001b[39m: Object arrays cannot be loaded when allow_pickle=False"
     ]
    }
   ],
   "source": [
    "import numpy as np\n",
    "import matplotlib.pyplot as plt\n",
    "from sklearn.manifold import TSNE\n",
    "\n",
    "cluster_label = np.load(\"predicted_label.npy\")\n",
    "true_label = np.load(\"label_test.npy\")\n",
    "features = np.load(\"features.npy\")"
   ]
  },
  {
   "cell_type": "code",
   "execution_count": null,
   "id": "34a6f534",
   "metadata": {},
   "outputs": [],
   "source": [
    "X_embedded = TSNE(n_components=2, learning_rate='auto',\n",
    "                  init='random', perplexity=3).fit_transform(features[:500])"
   ]
  },
  {
   "cell_type": "code",
   "execution_count": null,
   "id": "c5d7bcde",
   "metadata": {},
   "outputs": [],
   "source": [
    "fig, axes = plt.subplots(2, 1, figsize=(6, 6))\n",
    "\n",
    "axes[0].scatter(X_embedded[:, 0], X_embedded[:, 1], c=cluster_label[:500], cmap=\"tab10\", s=20)\n",
    "axes[0].set_title(\"Image Clustering\")\n",
    "axes[0].set_xlabel(\"t-SNE 1\")\n",
    "axes[0].set_ylabel(\"t-SNE 2\")\n",
    "\n",
    "sc = axes[1].scatter(X_embedded[:, 0], X_embedded[:, 1], c=true_label, cmap=\"tab10\", s=20)\n",
    "axes[1].set_title(\"True Labels\")\n",
    "axes[1].set_xlabel(\"t-SNE 1\")\n",
    "axes[1].set_ylabel(\"t-SNE 2\")\n",
    "\n",
    "handles = [plt.Line2D([], [], marker=\"o\", color=\"w\", markerfacecolor=sc.cmap(sc.norm(i)), \n",
    "                      markersize=10) for i in range(len(animals))]\n",
    "axes[1].legend(handles, animals, title=\"Animals\",\n",
    "               bbox_to_anchor=(1.05, 1), loc=\"upper left\")\n",
    "\n",
    "plt.tight_layout()\n",
    "plt.show()"
   ]
  },
  {
   "cell_type": "markdown",
   "id": "d2b33908",
   "metadata": {},
   "source": [
    "## Plot cluster images"
   ]
  },
  {
   "cell_type": "code",
   "execution_count": null,
   "id": "42408a0d",
   "metadata": {},
   "outputs": [],
   "source": [
    "import os\n",
    "import matplotlib.pyplot as plt\n",
    "from PIL import Image\n",
    "\n",
    "def plot_clusters(image_folder, labels, max_per_cluster=10, img_size=(64, 64)):\n",
    "\n",
    "    unique_labels = sorted(set(labels))\n",
    "    n_clusters = len(unique_labels)\n",
    "\n",
    "    fig, axes = plt.subplots(\n",
    "        n_clusters, max_per_cluster,\n",
    "        figsize=(max_per_cluster * 1.2, n_clusters * 1.2)\n",
    "    )\n",
    "\n",
    "    if n_clusters == 1:\n",
    "        axes = [axes]\n",
    "\n",
    "    for row, cluster_id in enumerate(unique_labels):\n",
    "        cluster_imgs = [f\"{i:04d}.jpg\" for i in range(len(labels)) if labels[i] == cluster_id]\n",
    "        cluster_imgs = cluster_imgs[:max_per_cluster]\n",
    "\n",
    "        for col in range(max_per_cluster):\n",
    "            ax = axes[row][col] if n_clusters > 1 else axes[col]\n",
    "            ax.axis(\"off\")\n",
    "            if col < len(cluster_imgs):\n",
    "                img = cluster_imgs[col]\n",
    "                if isinstance(img, str):\n",
    "                    im = Image.open(os.path.join(image_folder, img)).resize(img_size)\n",
    "                else:\n",
    "                    im = Image.fromarray(img).resize(img_size)\n",
    "                ax.imshow(im)\n",
    "\n",
    "        axes[row][0].set_title(f\"Cluster {cluster_id}\", fontsize=10, loc=\"left\")\n",
    "\n",
    "    plt.tight_layout()\n",
    "    plt.show()\n",
    "\n",
    "\n",
    "image_folder = \"./data\"\n",
    "plot_clusters(image_folder, cluster_label)\n"
   ]
  }
 ],
 "metadata": {
  "kernelspec": {
   "display_name": ".venv",
   "language": "python",
   "name": "python3"
  },
  "language_info": {
   "codemirror_mode": {
    "name": "ipython",
    "version": 3
   },
   "file_extension": ".py",
   "mimetype": "text/x-python",
   "name": "python",
   "nbconvert_exporter": "python",
   "pygments_lexer": "ipython3",
   "version": "3.13.7"
  }
 },
 "nbformat": 4,
 "nbformat_minor": 5
}
